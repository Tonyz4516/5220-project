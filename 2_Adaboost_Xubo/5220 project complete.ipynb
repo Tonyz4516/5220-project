{
 "cells": [
  {
   "cell_type": "code",
   "execution_count": 7,
   "metadata": {},
   "outputs": [],
   "source": [
    "import numpy as np\n",
    "import pandas as pd\n",
    "import matplotlib.pyplot as plt\n",
    "%matplotlib inline\n",
    "from sklearn.ensemble import AdaBoostClassifier\n",
    "from sklearn import metrics\n",
    "from sklearn.tree import DecisionTreeClassifier\n",
    "from sklearn.datasets import make_gaussian_quantiles\n",
    "from sklearn.model_selection import cross_val_score\n",
    "from sklearn.model_selection import GridSearchCV\n",
    "from sklearn.metrics import confusion_matrix\n",
    "import os\n",
    "from pandas.core.frame import DataFrame"
   ]
  },
  {
   "cell_type": "code",
   "execution_count": 9,
   "metadata": {},
   "outputs": [],
   "source": [
    "test = pd.read_csv('python_test.csv')\n",
    "train = pd.read_csv('python_train.csv')"
   ]
  },
  {
   "cell_type": "code",
   "execution_count": 10,
   "metadata": {},
   "outputs": [],
   "source": [
    "    del test['fav_cruz_2016']\n",
    "    del test['fav_ryan_2016']\n",
    "    del test['fav_romn_2016']\n",
    "    del test['fav_obama_2016']\n",
    "    del test['fav_sanders_2016']\n",
    "    del test['fav_rubio_2016']\n",
    "    del test['fav_romn_baseline']\n",
    "    del test['fav_ging_baseline']\n",
    "    del test['fav_hunt_baseline']\n",
    "    del test['fav_bach_baseline']\n",
    "    del test['fav_ronp_baseline']\n",
    "    del test['fav_sant_baseline']\n",
    "    del test['fav_perr_baseline']\n",
    "    del test['fav_obama_baseline']\n",
    "    del test['fav_hrc_baseline']\n",
    "    del test['fav_biden_baseline']\n",
    "    \n",
    "    del train['fav_cruz_2016']\n",
    "    del train['fav_ryan_2016']\n",
    "    del train['fav_romn_2016']\n",
    "    del train['fav_obama_2016']\n",
    "    del train['fav_sanders_2016']\n",
    "    del train['fav_rubio_2016']\n",
    "    del train['fav_romn_baseline']\n",
    "    del train['fav_ging_baseline']\n",
    "    del train['fav_hunt_baseline']\n",
    "    del train['fav_bach_baseline']\n",
    "    del train['fav_ronp_baseline']\n",
    "    del train['fav_sant_baseline']\n",
    "    del train['fav_perr_baseline']\n",
    "    del train['fav_obama_baseline']\n",
    "    del train['fav_hrc_baseline']\n",
    "    del train['fav_biden_baseline']\n",
    "    \n",
    "    del test['fav_trump_2016']\n",
    "    del test['Sanders_Trump_2016.bernie.sanders..democratic.']\n",
    "    del test['Sanders_Trump_2016.don.t.know']\n",
    "    del test['Sanders_Trump_2016.donald.trump..republican.']\n",
    "    del test['Clinton_Cruz_2016.don.t.know']\n",
    "    del test['Clinton_Cruz_2016.hillary.clinton..democratic.']\n",
    "    del test['Clinton_Cruz_2016.ted.cruz..republican.']\n",
    "    del test['Clinton_Rubio_2016.don.t.know']\n",
    "    del test['Clinton_Rubio_2016.hillary.clinton..democratic.']\n",
    "    del test['Clinton_Rubio_2016.marco.rubio..republican.']\n",
    "    del test['fav_hrc_2016']\n",
    "    del train['fav_trump_2016']\n",
    "    del train['Sanders_Trump_2016.bernie.sanders..democratic.']\n",
    "    del train['Sanders_Trump_2016.don.t.know']\n",
    "    del train['Sanders_Trump_2016.donald.trump..republican.']\n",
    "    del train['Clinton_Cruz_2016.don.t.know']\n",
    "    del train['Clinton_Cruz_2016.hillary.clinton..democratic.']\n",
    "    del train['Clinton_Cruz_2016.ted.cruz..republican.']\n",
    "    del train['Clinton_Rubio_2016.don.t.know']\n",
    "    del train['Clinton_Rubio_2016.hillary.clinton..democratic.']\n",
    "    del train['Clinton_Rubio_2016.marco.rubio..republican.']\n",
    "    del train['fav_hrc_2016']\n",
    "##trid round variable deletion\n",
    "    del train['vote_for_against_2016.vote.against.opponent']\n",
    "    del test[\"vote_for_against_2016.vote.against.opponent\"]\n",
    "    del train['vote_for_against_2016.vote.in.favor']\n",
    "    del test[\"vote_for_against_2016.vote.in.favor\"]\n",
    "\n",
    "y_train=train['presvote16post_2016.donald.trump']\n",
    "X_train=train.drop('presvote16post_2016.donald.trump',axis=1)\n",
    "y_test=test['presvote16post_2016.donald.trump']\n",
    "X_test=test.drop('presvote16post_2016.donald.trump',axis=1)"
   ]
  },
  {
   "cell_type": "code",
   "execution_count": 11,
   "metadata": {},
   "outputs": [],
   "source": [
    "bdt = AdaBoostClassifier(None,algorithm=\"SAMME.R\",n_estimators=50, learning_rate=0.8)"
   ]
  },
  {
   "cell_type": "code",
   "execution_count": 12,
   "metadata": {},
   "outputs": [
    {
     "name": "stdout",
     "output_type": "stream",
     "text": [
      "train_accuracy: 0.939835577754096\n",
      "test_accuracy: 0.9318655758037423\n"
     ]
    }
   ],
   "source": [
    "adamodel=bdt.fit(X_train, y_train)\n",
    "y_predict=adamodel.predict(X_test)\n",
    "scores_train = cross_val_score(bdt, X_train, y_train,cv=10)\n",
    "print(\"train_accuracy:\",scores_train.mean())\n",
    "scores_test = cross_val_score(bdt, X_test, y_test,cv=10)\n",
    "print(\"test_accuracy:\",scores_test.mean())"
   ]
  },
  {
   "cell_type": "code",
   "execution_count": 13,
   "metadata": {},
   "outputs": [
    {
     "name": "stdout",
     "output_type": "stream",
     "text": [
      "precision: 0.9164305949008499 recall: 0.9472913616398243\n",
      "[[858  59]\n",
      " [ 36 647]]\n"
     ]
    }
   ],
   "source": [
    "confusion_matrix(y_test,y_predict)\n",
    "tn, fp, fn, tp = confusion_matrix(y_test,y_predict).ravel()\n",
    "precision=tp/(tp+fp)\n",
    "recall=tp/(tp+fn)\n",
    "print(\"precision:\",precision,\"recall:\",recall)\n",
    "print(confusion_matrix(y_test,y_predict))"
   ]
  },
  {
   "cell_type": "code",
   "execution_count": null,
   "metadata": {},
   "outputs": [],
   "source": [
    "fe_na = X_train.columns.values\n",
    "fe_na_new = []\n",
    "fe_na_new_val = []\n",
    "\n",
    "for i in range(len(feature_importances)):\n",
    "    if feature_importances[i] > 0:\n",
    "#         print(str(i)+ '\\t' + fe_na[i] + '\\t' + '\\t' + str(feature_importances[i]))\n",
    "        fe_na_new.append(fe_na[i])\n",
    "        fe_na_new_val.append(feature_importances[i])\n",
    "\n",
    "c={\"column name\" : fe_na_new,\n",
    "   \"importance\" : fe_na_new_val}\n",
    "data=DataFrame(c)\n",
    "print(data)"
   ]
  }
 ],
 "metadata": {
  "kernelspec": {
   "display_name": "Python 3",
   "language": "python",
   "name": "python3"
  },
  "language_info": {
   "codemirror_mode": {
    "name": "ipython",
    "version": 3
   },
   "file_extension": ".py",
   "mimetype": "text/x-python",
   "name": "python",
   "nbconvert_exporter": "python",
   "pygments_lexer": "ipython3",
   "version": "3.7.1"
  }
 },
 "nbformat": 4,
 "nbformat_minor": 2
}
